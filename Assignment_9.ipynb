{
  "nbformat": 4,
  "nbformat_minor": 0,
  "metadata": {
    "colab": {
      "provenance": []
    },
    "kernelspec": {
      "name": "python3",
      "display_name": "Python 3"
    },
    "language_info": {
      "name": "python"
    }
  },
  "cells": [
    {
      "cell_type": "code",
      "execution_count": 1,
      "metadata": {
        "colab": {
          "base_uri": "https://localhost:8080/"
        },
        "id": "DxfSI91AmrDD",
        "outputId": "75062e5d-0fa7-4df4-ec75-ee8cc6b02641"
      },
      "outputs": [
        {
          "output_type": "stream",
          "name": "stderr",
          "text": [
            "[nltk_data] Downloading package punkt_tab to /root/nltk_data...\n",
            "[nltk_data]   Unzipping tokenizers/punkt_tab.zip.\n",
            "[nltk_data] Downloading package punkt to /root/nltk_data...\n",
            "[nltk_data]   Unzipping tokenizers/punkt.zip.\n",
            "[nltk_data] Downloading package stopwords to /root/nltk_data...\n",
            "[nltk_data]   Unzipping corpora/stopwords.zip.\n",
            "[nltk_data] Downloading package wordnet to /root/nltk_data...\n",
            "[nltk_data] Downloading package omw-1.4 to /root/nltk_data...\n"
          ]
        },
        {
          "output_type": "execute_result",
          "data": {
            "text/plain": [
              "True"
            ]
          },
          "metadata": {},
          "execution_count": 1
        }
      ],
      "source": [
        "import nltk\n",
        "import string\n",
        "from nltk.corpus import stopwords, wordnet\n",
        "from nltk.stem import PorterStemmer, LancasterStemmer, WordNetLemmatizer\n",
        "from nltk.tokenize import word_tokenize, sent_tokenize\n",
        "from nltk.probability import FreqDist\n",
        "import matplotlib.pyplot as plt\n",
        "import re\n",
        "nltk.download('punkt_tab')\n",
        "nltk.download('punkt')\n",
        "nltk.download('stopwords')\n",
        "nltk.download('wordnet')\n",
        "nltk.download('omw-1.4')"
      ]
    },
    {
      "cell_type": "code",
      "source": [
        "my_paragraph = \"\"\"\n",
        "Books have always been my greatest passion since childhood. Reading transports me to different worlds, introducing me to diverse characters and fascinating ideas.\n",
        "I particularly enjoy fantasy novels with their intricate world-building and imaginative storytelling elements.\n",
        "The feeling of getting lost in a good book is unlike any other experience in life.\n",
        "Libraries and bookstores feel like sacred spaces where countless adventures await on dusty shelves.\n",
        "My collection grows steadily, and I find myself returning to old favorites while constantly discovering new authors to love.\n",
        "\"\"\""
      ],
      "metadata": {
        "id": "lqQ6c44lmsh8"
      },
      "execution_count": 2,
      "outputs": []
    },
    {
      "cell_type": "code",
      "source": [
        "clean_text = my_paragraph.lower().translate(str.maketrans('', '', string.punctuation))"
      ],
      "metadata": {
        "id": "LJ3etAOFmslV"
      },
      "execution_count": 3,
      "outputs": []
    },
    {
      "cell_type": "code",
      "source": [
        "my_sentences = sent_tokenize(clean_text)\n",
        "my_words = word_tokenize(clean_text)\n",
        "\n",
        "print(\"Tokenized Sentences:\\n\", my_sentences)\n",
        "print(\"\\nTokenized Words:\\n\", my_words)\n",
        "\n",
        "stop_words_list = set(stopwords.words('english'))\n",
        "clean_words = [word for word in my_words if word not in stop_words_list]\n",
        "\n",
        "print(\"\\nFiltered Words (Stopwords Removed):\\n\", clean_words)"
      ],
      "metadata": {
        "colab": {
          "base_uri": "https://localhost:8080/"
        },
        "id": "VfyD6vZdms1V",
        "outputId": "9e1296ab-b869-4b44-b464-60c5b3701498"
      },
      "execution_count": 4,
      "outputs": [
        {
          "output_type": "stream",
          "name": "stdout",
          "text": [
            "Tokenized Sentences:\n",
            " ['\\nbooks have always been my greatest passion since childhood reading transports me to different worlds introducing me to diverse characters and fascinating ideas \\ni particularly enjoy fantasy novels with their intricate worldbuilding and imaginative storytelling elements\\nthe feeling of getting lost in a good book is unlike any other experience in life\\nlibraries and bookstores feel like sacred spaces where countless adventures await on dusty shelves\\nmy collection grows steadily and i find myself returning to old favorites while constantly discovering new authors to love']\n",
            "\n",
            "Tokenized Words:\n",
            " ['books', 'have', 'always', 'been', 'my', 'greatest', 'passion', 'since', 'childhood', 'reading', 'transports', 'me', 'to', 'different', 'worlds', 'introducing', 'me', 'to', 'diverse', 'characters', 'and', 'fascinating', 'ideas', 'i', 'particularly', 'enjoy', 'fantasy', 'novels', 'with', 'their', 'intricate', 'worldbuilding', 'and', 'imaginative', 'storytelling', 'elements', 'the', 'feeling', 'of', 'getting', 'lost', 'in', 'a', 'good', 'book', 'is', 'unlike', 'any', 'other', 'experience', 'in', 'life', 'libraries', 'and', 'bookstores', 'feel', 'like', 'sacred', 'spaces', 'where', 'countless', 'adventures', 'await', 'on', 'dusty', 'shelves', 'my', 'collection', 'grows', 'steadily', 'and', 'i', 'find', 'myself', 'returning', 'to', 'old', 'favorites', 'while', 'constantly', 'discovering', 'new', 'authors', 'to', 'love']\n",
            "\n",
            "Filtered Words (Stopwords Removed):\n",
            " ['books', 'always', 'greatest', 'passion', 'since', 'childhood', 'reading', 'transports', 'different', 'worlds', 'introducing', 'diverse', 'characters', 'fascinating', 'ideas', 'particularly', 'enjoy', 'fantasy', 'novels', 'intricate', 'worldbuilding', 'imaginative', 'storytelling', 'elements', 'feeling', 'getting', 'lost', 'good', 'book', 'unlike', 'experience', 'life', 'libraries', 'bookstores', 'feel', 'like', 'sacred', 'spaces', 'countless', 'adventures', 'await', 'dusty', 'shelves', 'collection', 'grows', 'steadily', 'find', 'returning', 'old', 'favorites', 'constantly', 'discovering', 'new', 'authors', 'love']\n"
          ]
        }
      ]
    },
    {
      "cell_type": "code",
      "source": [
        "word_freq = FreqDist(clean_words)"
      ],
      "metadata": {
        "id": "A5G_qbt7ms4w"
      },
      "execution_count": 5,
      "outputs": []
    },
    {
      "cell_type": "code",
      "source": [
        "print(\"\\nTop 10 Most Common Words:\")\n",
        "for word, freq in word_freq.most_common(10):\n",
        "    print(f\"{word}: {freq}\")"
      ],
      "metadata": {
        "colab": {
          "base_uri": "https://localhost:8080/"
        },
        "id": "y-KDfJmam6Oa",
        "outputId": "6b51ff55-e13e-421d-b24f-56bcecc29cdf"
      },
      "execution_count": 6,
      "outputs": [
        {
          "output_type": "stream",
          "name": "stdout",
          "text": [
            "\n",
            "Top 10 Most Common Words:\n",
            "books: 1\n",
            "always: 1\n",
            "greatest: 1\n",
            "passion: 1\n",
            "since: 1\n",
            "childhood: 1\n",
            "reading: 1\n",
            "transports: 1\n",
            "different: 1\n",
            "worlds: 1\n"
          ]
        }
      ]
    },
    {
      "cell_type": "code",
      "source": [
        "word_freq.plot(10, title=\"Top 10 Word Frequencies (Excluding Stopwords)\")"
      ],
      "metadata": {
        "colab": {
          "base_uri": "https://localhost:8080/",
          "height": 546
        },
        "id": "WIPltWE4m6Q-",
        "outputId": "20763a33-a687-4573-d627-00cc3d15d225"
      },
      "execution_count": 20,
      "outputs": [
        {
          "output_type": "execute_result",
          "data": {
            "text/plain": [
              "<Axes: title={'center': 'Top 10 Word Frequencies (Excluding Stopwords)'}, xlabel='Samples', ylabel='Counts'>"
            ]
          },
          "metadata": {},
          "execution_count": 20
        },
        {
          "output_type": "display_data",
          "data": {
            "text/plain": [
              "<Figure size 640x480 with 1 Axes>"
            ],
            "image/png": "[encoded data removed]"
          },
          "metadata": {}
        }
      ]
    },
    {
      "cell_type": "code",
      "source": [
        "processed_text = my_paragraph.lower().translate(str.maketrans('', '', string.punctuation))\n",
        "word_list = word_tokenize(processed_text)\n",
        "filtered_word_list = [word for word in word_list if word not in stop_words_list]"
      ],
      "metadata": {
        "id": "tYpfE4Tgm6Uc"
      },
      "execution_count": 8,
      "outputs": []
    },
    {
      "cell_type": "code",
      "source": [
        "ps = PorterStemmer()\n",
        "ls = LancasterStemmer()\n",
        "wl = WordNetLemmatizer()"
      ],
      "metadata": {
        "id": "1MZQVE2tnB1v"
      },
      "execution_count": 9,
      "outputs": []
    },
    {
      "cell_type": "code",
      "source": [
        "print(f\"{'Original':<15}{'Porter Stem':<15}{'Lancaster Stem':<20}{'Lemmatized':<15}\")\n",
        "print(\"-\" * 65)\n",
        "for word in filtered_word_list:\n",
        "    print(f\"{word:<15}{ps.stem(word):<15}{ls.stem(word):<20}{wl.lemmatize(word):<15}\")"
      ],
      "metadata": {
        "colab": {
          "base_uri": "https://localhost:8080/"
        },
        "id": "4JFBk3qnnB3k",
        "outputId": "02ac6e97-886b-4eba-921f-f62de0664998"
      },
      "execution_count": 10,
      "outputs": [
        {
          "output_type": "stream",
          "name": "stdout",
          "text": [
            "Original       Porter Stem    Lancaster Stem      Lemmatized     \n",
            "-----------------------------------------------------------------\n",
            "books          book           book                book           \n",
            "always         alway          alway               always         \n",
            "greatest       greatest       greatest            greatest       \n",
            "passion        passion        pass                passion        \n",
            "since          sinc           sint                since          \n",
            "childhood      childhood      child               childhood      \n",
            "reading        read           read                reading        \n",
            "transports     transport      transport           transport      \n",
            "different      differ         diff                different      \n",
            "worlds         world          world               world          \n",
            "introducing    introduc       introduc            introducing    \n",
            "diverse        divers         divers              diverse        \n",
            "characters     charact        charact             character      \n",
            "fascinating    fascin         fascin              fascinating    \n",
            "ideas          idea           idea                idea           \n",
            "particularly   particularli   particul            particularly   \n",
            "enjoy          enjoy          enjoy               enjoy          \n",
            "fantasy        fantasi        fantasy             fantasy        \n",
            "novels         novel          novel               novel          \n",
            "intricate      intric         int                 intricate      \n",
            "worldbuilding  worldbuild     worldbuild          worldbuilding  \n",
            "imaginative    imagin         imagin              imaginative    \n",
            "storytelling   storytel       storytel            storytelling   \n",
            "elements       element        el                  element        \n",
            "feeling        feel           feel                feeling        \n",
            "getting        get            get                 getting        \n",
            "lost           lost           lost                lost           \n",
            "good           good           good                good           \n",
            "book           book           book                book           \n",
            "unlike         unlik          unlik               unlike         \n",
            "experience     experi         expery              experience     \n",
            "life           life           lif                 life           \n",
            "libraries      librari        libr                library        \n",
            "bookstores     bookstor       bookst              bookstore      \n",
            "feel           feel           feel                feel           \n",
            "like           like           lik                 like           \n",
            "sacred         sacr           sacr                sacred         \n",
            "spaces         space          spac                space          \n",
            "countless      countless      countless           countless      \n",
            "adventures     adventur       adv                 adventure      \n",
            "await          await          await               await          \n",
            "dusty          dusti          dusty               dusty          \n",
            "shelves        shelv          shelv               shelf          \n",
            "collection     collect        collect             collection     \n",
            "grows          grow           grow                grows          \n",
            "steadily       steadili       steady              steadily       \n",
            "find           find           find                find           \n",
            "returning      return         return              returning      \n",
            "old            old            old                 old            \n",
            "favorites      favorit        favorit             favorite       \n",
            "constantly     constantli     const               constantly     \n",
            "discovering    discov         discov              discovering    \n",
            "new            new            new                 new            \n",
            "authors        author         auth                author         \n",
            "love           love           lov                 love           \n"
          ]
        }
      ]
    },
    {
      "cell_type": "code",
      "source": [
        "long_words = re.findall(r'\\b[a-zA-Z]{6,}\\b', my_paragraph)\n",
        "print(\"Words with more than 5 letters:\\n\", long_words)"
      ],
      "metadata": {
        "colab": {
          "base_uri": "https://localhost:8080/"
        },
        "id": "Bn3rT005nB69",
        "outputId": "c4680851-19ff-4650-84bb-0a9620de4f36"
      },
      "execution_count": 11,
      "outputs": [
        {
          "output_type": "stream",
          "name": "stdout",
          "text": [
            "Words with more than 5 letters:\n",
            " ['always', 'greatest', 'passion', 'childhood', 'Reading', 'transports', 'different', 'worlds', 'introducing', 'diverse', 'characters', 'fascinating', 'particularly', 'fantasy', 'novels', 'intricate', 'building', 'imaginative', 'storytelling', 'elements', 'feeling', 'getting', 'unlike', 'experience', 'Libraries', 'bookstores', 'sacred', 'spaces', 'countless', 'adventures', 'shelves', 'collection', 'steadily', 'myself', 'returning', 'favorites', 'constantly', 'discovering', 'authors']\n"
          ]
        }
      ]
    },
    {
      "cell_type": "code",
      "source": [
        "numeric_values = re.findall(r'\\b\\d+\\b', my_paragraph)\n",
        "print(\"\\nNumbers in text:\\n\", numeric_values if numeric_values else \"No numbers found.\")"
      ],
      "metadata": {
        "colab": {
          "base_uri": "https://localhost:8080/"
        },
        "id": "NeazA8XynMQI",
        "outputId": "94cd8395-785b-4e71-a735-65b1c0917e1e"
      },
      "execution_count": 12,
      "outputs": [
        {
          "output_type": "stream",
          "name": "stdout",
          "text": [
            "\n",
            "Numbers in text:\n",
            " No numbers found.\n"
          ]
        }
      ]
    },
    {
      "cell_type": "code",
      "source": [
        "capital_words = re.findall(r'\\b[A-Z][a-z]*\\b', my_paragraph)\n",
        "print(\"\\nCapitalized words:\\n\", capital_words)"
      ],
      "metadata": {
        "colab": {
          "base_uri": "https://localhost:8080/"
        },
        "id": "oG12cu6xnMgI",
        "outputId": "23118a1e-3964-454d-e86b-b32fc769a0da"
      },
      "execution_count": 13,
      "outputs": [
        {
          "output_type": "stream",
          "name": "stdout",
          "text": [
            "\n",
            "Capitalized words:\n",
            " ['Books', 'Reading', 'I', 'The', 'Libraries', 'My', 'I']\n"
          ]
        }
      ]
    },
    {
      "cell_type": "code",
      "source": [
        "alpha_words = re.findall(r'\\b[a-zA-Z]+\\b', my_paragraph)\n",
        "print(\"\\nAlphabetic words:\\n\", alpha_words)"
      ],
      "metadata": {
        "colab": {
          "base_uri": "https://localhost:8080/"
        },
        "id": "bEHxJmXKnVXD",
        "outputId": "a0dd775a-9efc-4b53-ecba-27e2d14450c9"
      },
      "execution_count": 14,
      "outputs": [
        {
          "output_type": "stream",
          "name": "stdout",
          "text": [
            "\n",
            "Alphabetic words:\n",
            " ['Books', 'have', 'always', 'been', 'my', 'greatest', 'passion', 'since', 'childhood', 'Reading', 'transports', 'me', 'to', 'different', 'worlds', 'introducing', 'me', 'to', 'diverse', 'characters', 'and', 'fascinating', 'ideas', 'I', 'particularly', 'enjoy', 'fantasy', 'novels', 'with', 'their', 'intricate', 'world', 'building', 'and', 'imaginative', 'storytelling', 'elements', 'The', 'feeling', 'of', 'getting', 'lost', 'in', 'a', 'good', 'book', 'is', 'unlike', 'any', 'other', 'experience', 'in', 'life', 'Libraries', 'and', 'bookstores', 'feel', 'like', 'sacred', 'spaces', 'where', 'countless', 'adventures', 'await', 'on', 'dusty', 'shelves', 'My', 'collection', 'grows', 'steadily', 'and', 'I', 'find', 'myself', 'returning', 'to', 'old', 'favorites', 'while', 'constantly', 'discovering', 'new', 'authors', 'to', 'love']\n"
          ]
        }
      ]
    },
    {
      "cell_type": "code",
      "source": [
        "vowel_start_words = re.findall(r'\\b[aeiouAEIOU][a-zA-Z]*\\b', my_paragraph)\n",
        "print(\"\\nWords starting with a vowel:\\n\", vowel_start_words)"
      ],
      "metadata": {
        "colab": {
          "base_uri": "https://localhost:8080/"
        },
        "id": "2IkYxrhhnVZb",
        "outputId": "c3b23c60-4025-45f9-bbc8-8ba8b9ba4f79"
      },
      "execution_count": 15,
      "outputs": [
        {
          "output_type": "stream",
          "name": "stdout",
          "text": [
            "\n",
            "Words starting with a vowel:\n",
            " ['always', 'introducing', 'and', 'ideas', 'I', 'enjoy', 'intricate', 'and', 'imaginative', 'elements', 'of', 'in', 'a', 'is', 'unlike', 'any', 'other', 'experience', 'in', 'and', 'adventures', 'await', 'on', 'and', 'I', 'old', 'authors']\n"
          ]
        }
      ]
    },
    {
      "cell_type": "code",
      "source": [
        "def my_tokenizer(text):\n",
        "    pattern = r\"\"\"\n",
        "        \\b(?:\\d+\\.\\d+|\\d+)\\b\n",
        "        | \\b\\w+(?:-\\w+)*\\b\n",
        "        | \\b\\w+'\\w+\\b\n",
        "    \"\"\"\n",
        "    tokens = re.findall(pattern, text, re.VERBOSE)\n",
        "    return tokens"
      ],
      "metadata": {
        "id": "fCV74eeQnVc8"
      },
      "execution_count": 16,
      "outputs": []
    },
    {
      "cell_type": "code",
      "source": [
        "def text_cleaner(text):\n",
        "    text = re.sub(r'\\b[\\w\\.-]+@[\\w\\.-]+\\.\\w+\\b', '<EMAIL>', text)\n",
        "    text = re.sub(r'https?://\\S+|www\\.\\S+', '<URL>', text)\n",
        "    text = re.sub(r'(\\+?\\d{1,3}[\\s-])?\\d{3}[-\\s]?\\d{3}[-\\s]?\\d{4}', '<PHONE>', text)\n",
        "    return text"
      ],
      "metadata": {
        "id": "orMpvoevnd5w"
      },
      "execution_count": 17,
      "outputs": []
    },
    {
      "cell_type": "code",
      "source": [
        "clean_paragraph = text_cleaner(my_paragraph)\n",
        "custom_tokens = my_tokenizer(clean_paragraph)\n",
        "\n",
        "print(\"Cleaned Text:\\n\", clean_paragraph)\n",
        "print(\"\\nCustom Tokens:\\n\", custom_tokens)"
      ],
      "metadata": {
        "colab": {
          "base_uri": "https://localhost:8080/"
        },
        "id": "pqIt3X8wnhYc",
        "outputId": "da7f1204-90e5-4a48-f15a-68df0569c109"
      },
      "execution_count": 18,
      "outputs": [
        {
          "output_type": "stream",
          "name": "stdout",
          "text": [
            "Cleaned Text:\n",
            " \n",
            "Books have always been my greatest passion since childhood. Reading transports me to different worlds, introducing me to diverse characters and fascinating ideas. \n",
            "I particularly enjoy fantasy novels with their intricate world-building and imaginative storytelling elements.\n",
            "The feeling of getting lost in a good book is unlike any other experience in life.\n",
            "Libraries and bookstores feel like sacred spaces where countless adventures await on dusty shelves.\n",
            "My collection grows steadily, and I find myself returning to old favorites while constantly discovering new authors to love.\n",
            "\n",
            "\n",
            "Custom Tokens:\n",
            " ['Books', 'have', 'always', 'been', 'my', 'greatest', 'passion', 'since', 'childhood', 'Reading', 'transports', 'me', 'to', 'different', 'worlds', 'introducing', 'me', 'to', 'diverse', 'characters', 'and', 'fascinating', 'ideas', 'I', 'particularly', 'enjoy', 'fantasy', 'novels', 'with', 'their', 'intricate', 'world-building', 'and', 'imaginative', 'storytelling', 'elements', 'The', 'feeling', 'of', 'getting', 'lost', 'in', 'a', 'good', 'book', 'is', 'unlike', 'any', 'other', 'experience', 'in', 'life', 'Libraries', 'and', 'bookstores', 'feel', 'like', 'sacred', 'spaces', 'where', 'countless', 'adventures', 'await', 'on', 'dusty', 'shelves', 'My', 'collection', 'grows', 'steadily', 'and', 'I', 'find', 'myself', 'returning', 'to', 'old', 'favorites', 'while', 'constantly', 'discovering', 'new', 'authors', 'to', 'love']\n"
          ]
        }
      ]
    }
  ]
}